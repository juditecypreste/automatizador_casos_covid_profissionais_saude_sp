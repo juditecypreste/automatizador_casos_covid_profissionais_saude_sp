{
 "cells": [
  {
   "cell_type": "code",
   "execution_count": null,
   "metadata": {},
   "outputs": [],
   "source": [
    "# Importando as bibliotecas\n",
    "from bs4 import BeautifulSoup\n",
    "import numpy as np\n",
    "from time import sleep\n",
    "from random import randint\n",
    "from selenium import webdriver\n",
    "\n",
    "############################\n",
    "# Fazendo o loop nas páginas\n",
    "############################\n",
    "\n",
    "# Selecionando os meses. No primeiro grupo são aqueles que não começam com zero. No segundo são os que começam\n",
    "meses_ate_setembro = np.arange(1,9)\n",
    "meses_ate_dezembro = np.arange(10,12)\n",
    "\n",
    "# Selecionando os dias. No primeiro grupo são aqueles que não começam com zero. No segundo são os que começam.\n",
    "dias_ate_10 = np.arange(1,10)\n",
    "dias_ate_31 = np.arange(10,32)"
   ]
  },
  {
   "cell_type": "code",
   "execution_count": null,
   "metadata": {},
   "outputs": [],
   "source": [
    "# Selecionando 2020\n",
    "for mes in meses_ate_setembro:\n",
    "    for dia in dias_ate_10:\n",
    "        url='https://www.saopaulo.sp.gov.br/wp-content/uploads/2020/0'+ str(mes) +'/20200'+ str(mes) +'0'+ str(dia) +'_Profissionais-de-saude.xlsx'  \n",
    "        driver = webdriver.Chrome()\n",
    "        driver.get(url)  \n",
    "        sleep(randint(2,10))\n",
    "        soup = BeautifulSoup(driver.page_source, 'html.parser')\n",
    "    for dia in dias_ate_31:\n",
    "        url='https://www.saopaulo.sp.gov.br/wp-content/uploads/2020/0'+ str(mes) +'/20200'+ str(mes) +''+ str(dia) +'_Profissionais-de-saude.xlsx'  \n",
    "        driver = webdriver.Chrome()\n",
    "        driver.get(url)  \n",
    "        sleep(randint(2,10))\n",
    "        soup = BeautifulSoup(driver.page_source, 'html.parser')      \n",
    "\n",
    "for mes in meses_ate_dezembro:\n",
    "    for dia in dias_ate_10:\n",
    "        url='https://www.saopaulo.sp.gov.br/wp-content/uploads/2020/'+ str(mes) +'/2020'+ str(mes) +'0'+ str(dia_0) +'_Profissionais-de-saude.xlsx'  \n",
    "        driver = webdriver.Chrome()\n",
    "        driver.get(url)  \n",
    "        sleep(randint(2,10))\n",
    "        soup = BeautifulSoup(driver.page_source, 'html.parser')\n",
    "    for dia in dias_ate_31 :\n",
    "        url='https://www.saopaulo.sp.gov.br/wp-content/uploads/2020/'+ str(mes) +'/2020'+ str(mes) +''+ str(dia) +'_Profissionais-de-saude.xlsx'  \n",
    "        driver = webdriver.Chrome()\n",
    "        driver.get(url)  \n",
    "        sleep(randint(2,10))\n",
    "        soup = BeautifulSoup(driver.page_source, 'html.parser')      \n"
   ]
  },
  {
   "cell_type": "code",
   "execution_count": null,
   "metadata": {},
   "outputs": [],
   "source": [
    "# Selecionando 2021\n",
    "for mes in meses_ate_setembro:\n",
    "    for dia in dias_ate_10:\n",
    "        url='https://www.saopaulo.sp.gov.br/wp-content/uploads/2021/0'+ str(mes) +'/20210'+ str(mes) +'0'+ str(dia) +'_Profissionais-de-saude.xlsx'  \n",
    "        driver = webdriver.Chrome()\n",
    "        driver.get(url)  \n",
    "        sleep(randint(2,10))\n",
    "        soup = BeautifulSoup(driver.page_source, 'html.parser')\n",
    "    for dia_1 in dias_ate_31:\n",
    "        url='https://www.saopaulo.sp.gov.br/wp-content/uploads/2021/0'+ str(mes) +'/20210'+ str(mes) +''+ str(dia) +'_Profissionais-de-saude.xlsx'  \n",
    "        driver = webdriver.Chrome()\n",
    "        driver.get(url)  \n",
    "        sleep(randint(2,10))\n",
    "        soup = BeautifulSoup(driver.page_source, 'html.parser')      \n",
    "\n",
    "for mes in meses_ate_dezembro:\n",
    "    for dia in dias_ate_10:\n",
    "        url='https://www.saopaulo.sp.gov.br/wp-content/uploads/2021/'+ str(mes) +'/2021'+ str(mes) +'0'+ str(dia) +'_Profissionais-de-saude.xlsx'  \n",
    "        driver = webdriver.Chrome()\n",
    "        driver.get(url)  \n",
    "        sleep(randint(2,10))\n",
    "        soup = BeautifulSoup(driver.page_source, 'html.parser')\n",
    "    for dia in dias_ate_31:\n",
    "        url='https://www.saopaulo.sp.gov.br/wp-content/uploads/2021/'+ str(mes) +'/2021'+ str(mes) +''+ str(dia) +'_Profissionais-de-saude.xlsx'  \n",
    "        driver = webdriver.Chrome()\n",
    "        driver.get(url)  \n",
    "        sleep(randint(2,10))\n",
    "        soup = BeautifulSoup(driver.page_source, 'html.parser')      \n"
   ]
  }
 ],
 "metadata": {
  "kernelspec": {
   "display_name": "Python 3",
   "language": "python",
   "name": "python3"
  },
  "language_info": {
   "codemirror_mode": {
    "name": "ipython",
    "version": 3
   },
   "file_extension": ".py",
   "mimetype": "text/x-python",
   "name": "python",
   "nbconvert_exporter": "python",
   "pygments_lexer": "ipython3",
   "version": "3.8.5"
  }
 },
 "nbformat": 4,
 "nbformat_minor": 4
}
